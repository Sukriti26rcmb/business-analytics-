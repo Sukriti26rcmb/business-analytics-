{
 "cells": [
  {
   "cell_type": "code",
   "execution_count": 3,
   "id": "e00eb7fa-7c6a-4f8b-86c9-936363710826",
   "metadata": {},
   "outputs": [],
   "source": [
    "import numpy as np\n",
    "import sklearn as sklearn\n",
    "import pandas as pd\n"
   ]
  },
  {
   "cell_type": "code",
   "execution_count": 4,
   "id": "f5ec69e9-635c-4ada-ae87-26f8435422c1",
   "metadata": {},
   "outputs": [],
   "source": [
    "f = 1.1"
   ]
  },
  {
   "cell_type": "code",
   "execution_count": 5,
   "id": "3b6494be-a4b2-4bf7-ac66-b212a9957923",
   "metadata": {},
   "outputs": [
    {
     "data": {
      "text/plain": [
       "float"
      ]
     },
     "execution_count": 5,
     "metadata": {},
     "output_type": "execute_result"
    }
   ],
   "source": [
    "type(f)\n"
   ]
  },
  {
   "cell_type": "code",
   "execution_count": 6,
   "id": "9af581c7-c426-47e0-8d35-0a824ded8bb1",
   "metadata": {},
   "outputs": [],
   "source": [
    "i =3"
   ]
  },
  {
   "cell_type": "code",
   "execution_count": 7,
   "id": "af53b590-0249-43d0-b922-c3c54f4b85d6",
   "metadata": {},
   "outputs": [
    {
     "data": {
      "text/plain": [
       "int"
      ]
     },
     "execution_count": 7,
     "metadata": {},
     "output_type": "execute_result"
    }
   ],
   "source": [
    "type(i)"
   ]
  },
  {
   "cell_type": "code",
   "execution_count": 8,
   "id": "2a48f8da-0fab-4451-b127-eb491b3feef4",
   "metadata": {},
   "outputs": [],
   "source": [
    "name=\"sukriti\""
   ]
  },
  {
   "cell_type": "code",
   "execution_count": 9,
   "id": "608b8706-859b-44e2-b562-3099d928dc2c",
   "metadata": {},
   "outputs": [
    {
     "data": {
      "text/plain": [
       "'sukriti'"
      ]
     },
     "execution_count": 9,
     "metadata": {},
     "output_type": "execute_result"
    }
   ],
   "source": [
    "name"
   ]
  },
  {
   "cell_type": "code",
   "execution_count": 10,
   "id": "e78ad919-f153-41e5-99df-4e18eea4237f",
   "metadata": {},
   "outputs": [
    {
     "data": {
      "text/plain": [
       "str"
      ]
     },
     "execution_count": 10,
     "metadata": {},
     "output_type": "execute_result"
    }
   ],
   "source": [
    "type(name)"
   ]
  },
  {
   "cell_type": "code",
   "execution_count": 11,
   "id": "f413afdd-5228-453d-924b-5829fdeb2958",
   "metadata": {},
   "outputs": [],
   "source": [
    "l=[1,2,3]"
   ]
  },
  {
   "cell_type": "code",
   "execution_count": 12,
   "id": "9f3f66ba-bbde-42e7-ad6e-83516cb7aa11",
   "metadata": {},
   "outputs": [
    {
     "data": {
      "text/plain": [
       "[1, 2, 3]"
      ]
     },
     "execution_count": 12,
     "metadata": {},
     "output_type": "execute_result"
    }
   ],
   "source": [
    "l"
   ]
  },
  {
   "cell_type": "code",
   "execution_count": 14,
   "id": "73ccb4e5-bc92-41a4-983c-2643c1889c70",
   "metadata": {},
   "outputs": [],
   "source": [
    "d={'a': 1, 'b': 2, 's':\"sukriti\"}"
   ]
  },
  {
   "cell_type": "code",
   "execution_count": 15,
   "id": "46051e5b-6a84-40f4-8e76-cbe3f659bc12",
   "metadata": {},
   "outputs": [
    {
     "data": {
      "text/plain": [
       "{'a': 1, 'b': 2, 's': 'sukriti'}"
      ]
     },
     "execution_count": 15,
     "metadata": {},
     "output_type": "execute_result"
    }
   ],
   "source": [
    "d"
   ]
  },
  {
   "cell_type": "code",
   "execution_count": 16,
   "id": "80785fb0-94da-46ed-8ecf-5c2c66abe191",
   "metadata": {},
   "outputs": [
    {
     "data": {
      "text/plain": [
       "dict"
      ]
     },
     "execution_count": 16,
     "metadata": {},
     "output_type": "execute_result"
    }
   ],
   "source": [
    "type(d)"
   ]
  },
  {
   "cell_type": "code",
   "execution_count": 17,
   "id": "59ad5026-b032-4d19-ac4f-9252d34b4874",
   "metadata": {},
   "outputs": [],
   "source": [
    "s1,s2,s3=\"air\",\"water\",\"earth\""
   ]
  },
  {
   "cell_type": "code",
   "execution_count": 18,
   "id": "a6fa99f9-d81b-42f8-a9dc-9908ca2919f8",
   "metadata": {},
   "outputs": [
    {
     "data": {
      "text/plain": [
       "'air'"
      ]
     },
     "execution_count": 18,
     "metadata": {},
     "output_type": "execute_result"
    }
   ],
   "source": [
    "s1"
   ]
  },
  {
   "cell_type": "code",
   "execution_count": 19,
   "id": "3d2e09eb-989f-46e9-819e-65b7e71067a0",
   "metadata": {},
   "outputs": [
    {
     "data": {
      "text/plain": [
       "'water'"
      ]
     },
     "execution_count": 19,
     "metadata": {},
     "output_type": "execute_result"
    }
   ],
   "source": [
    "s2"
   ]
  },
  {
   "cell_type": "code",
   "execution_count": 20,
   "id": "230523f9-d52f-451e-b0ad-4e52ee8f35f0",
   "metadata": {},
   "outputs": [
    {
     "data": {
      "text/plain": [
       "'earth'"
      ]
     },
     "execution_count": 20,
     "metadata": {},
     "output_type": "execute_result"
    }
   ],
   "source": [
    "s3"
   ]
  },
  {
   "cell_type": "code",
   "execution_count": null,
   "id": "b45a38d0-8d4e-4df3-91c9-c60c36908b35",
   "metadata": {},
   "outputs": [],
   "source": []
  }
 ],
 "metadata": {
  "kernelspec": {
   "display_name": "Python 3 (ipykernel)",
   "language": "python",
   "name": "python3"
  },
  "language_info": {
   "codemirror_mode": {
    "name": "ipython",
    "version": 3
   },
   "file_extension": ".py",
   "mimetype": "text/x-python",
   "name": "python",
   "nbconvert_exporter": "python",
   "pygments_lexer": "ipython3",
   "version": "3.11.7"
  }
 },
 "nbformat": 4,
 "nbformat_minor": 5
}
